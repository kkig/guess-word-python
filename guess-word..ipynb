# Word guessing program
print('Which mountain is the highest in Japan?:')
inputValue = input()
my_stringy = 'Mt.Fuji'
find_word = inputValue.find(my_stringy)
count = 0

while count < 5 and find_word == -1:
    count += 1
    print('Nope. You have ' + str(5 - count) + ' more tries. Try again: ')
    inputRetry = input()
    if inputRetry.find(my_stringy) > -1:
      find_word = 0

if count >= 5 and find_word == -1:
  print('Oopsie! Game Over!')
  
else:
  print('You win! The string was ' + my_stringy + '.')
